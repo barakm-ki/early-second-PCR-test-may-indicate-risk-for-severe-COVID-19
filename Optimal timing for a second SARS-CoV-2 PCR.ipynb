{
 "cells": [
  {
   "cell_type": "code",
   "execution_count": 2,
   "metadata": {},
   "outputs": [],
   "source": [
    "import scipy.stats as stats\n",
    "\n",
    "\n",
    "#Optimal timing for a second SARS-CoV-2 PCR \n",
    "day_1_p_value = stats.fisher_exact([[16, 183], [6, 86]], alternative='greater')\n",
    "day_2_p_value = stats.fisher_exact([[15, 100], [3, 120]], alternative='greater')\n",
    "day_3_p_value = stats.fisher_exact([[14, 129], [1, 133]], alternative='greater')\n",
    "day_4_p_value = stats.fisher_exact([[14, 102], [1, 118]], alternative='greater')\n",
    "day_5_p_value = stats.fisher_exact([[7, 94], [2, 112]], alternative='greater')\n",
    "day_6_p_value = stats.fisher_exact([[15, 140], [0, 116]], alternative='greater')\n",
    "day_7_p_value = stats.fisher_exact([[24, 185], [5, 151]], alternative='greater')"
   ]
  },
  {
   "cell_type": "code",
   "execution_count": 4,
   "metadata": {},
   "outputs": [
    {
     "name": "stdout",
     "output_type": "stream",
     "text": [
      "day_1_p_value -  0.4238804731689161\n",
      "day_2_p_value -  0.0017503443778214914\n",
      "day_3_p_value -  0.0005620723592269025\n",
      "day_4_p_value -  0.0002854905621877353\n",
      "day_5_p_value -  0.05953395628364691\n",
      "day_6_p_value -  0.00016902910461984286\n",
      "day_7_p_value -  0.0025193164493173452\n"
     ]
    }
   ],
   "source": [
    "print('day_1_p_value - ',day_1_p_value[1])\n",
    "print('day_2_p_value - ',day_2_p_value[1])\n",
    "print('day_3_p_value - ',day_3_p_value[1])\n",
    "print('day_4_p_value - ',day_4_p_value[1])\n",
    "print('day_5_p_value - ',day_5_p_value[1])\n",
    "print('day_6_p_value - ',day_6_p_value[1])\n",
    "print('day_7_p_value - ',day_7_p_value[1])"
   ]
  },
  {
   "cell_type": "code",
   "execution_count": null,
   "metadata": {},
   "outputs": [],
   "source": []
  }
 ],
 "metadata": {
  "kernelspec": {
   "display_name": "Python 3",
   "language": "python",
   "name": "python3"
  },
  "language_info": {
   "codemirror_mode": {
    "name": "ipython",
    "version": 3
   },
   "file_extension": ".py",
   "mimetype": "text/x-python",
   "name": "python",
   "nbconvert_exporter": "python",
   "pygments_lexer": "ipython3",
   "version": "3.8.3"
  }
 },
 "nbformat": 4,
 "nbformat_minor": 4
}
